{
 "cells": [
  {
   "cell_type": "markdown",
   "metadata": {},
   "source": [
    "<p style=\"font-family: Arial; font-size:3.75em;color:purple; font-style:bold\"><br>\n",
    "A Light Introduction to Python<br><br><br>Week 1 ~ 2<br></p><br>\n",
    "\n",
    "* Input and output in Python\n",
    "* Docstring in Python\n",
    "* Python is an object oriented programming language\n",
    "* Creating an Object in Python\n",
    "* Function is a group of related statements that perform a specific task\n",
    "* Different ways to import modules\n",
    "* A Pandas Pandas DataFrame is a table, similar to an Excel Spreadsheet\n",
    "* Matplotlib is the primary scientific plotting library in Python\n",
    "* NumPy is one of the fundamental packages for scientific computing in Python\n",
    "* List indexing and slicing\n",
    "* Versions of the modules we use\n",
    "\n",
    "\n",
    "### Input and output in Python"
   ]
  },
  {
   "cell_type": "code",
   "execution_count": null,
   "metadata": {},
   "outputs": [],
   "source": [
    "name = input(\"What's your name? \") \n",
    "print(\"Nice to meet you \" + name + \"!\") \n",
    "age = input(\"Your age? \") \n",
    "print(\"So, you are already \" + age + \" years old, \" + name)"
   ]
  },
  {
   "cell_type": "code",
   "execution_count": null,
   "metadata": {},
   "outputs": [],
   "source": [
    "__name__ # check the current name scope"
   ]
  },
  {
   "cell_type": "markdown",
   "metadata": {},
   "source": [
    "This is an example demonstrating how to reference the different scopes and namespaces, and how global and nonlocal affect variable binding:"
   ]
  },
  {
   "cell_type": "markdown",
   "metadata": {},
   "source": [
    "## Docstring in Python\n",
    "### Docstring is short for documentation string.\n",
    "\n",
    "### It is a string that occurs as the first statement in a module, function, class, or method definition. We must write what a function/class does in the docstring.\n",
    "\n",
    "### Triple quotes are used while writing docstrings."
   ]
  },
  {
   "cell_type": "code",
   "execution_count": null,
   "metadata": {},
   "outputs": [],
   "source": [
    "def double(num):\n",
    "    \"\"\"Function to double the value\n",
    "    $$$$$$$$$$\n",
    "    And nothing Else\"\"\"\n",
    "    return 2*num"
   ]
  },
  {
   "cell_type": "code",
   "execution_count": null,
   "metadata": {},
   "outputs": [],
   "source": [
    "print(double.__doc__)"
   ]
  },
  {
   "cell_type": "markdown",
   "metadata": {},
   "source": [
    "## Python is an object-oriented programming language.\n",
    "### Object is simply a collection of data (variables) and methods (functions) that act on those data. And, class is a blueprint for the object.\n",
    "### Classes provide a means of bundling data and functionality together. Creating a new class creates a new type of object, allowing new instances of that type to be made. Each class instance can have attributes attached to it for maintaining its state. Class instances can also have methods (defined by its class) for modifying its state."
   ]
  },
  {
   "cell_type": "code",
   "execution_count": null,
   "metadata": {},
   "outputs": [],
   "source": [
    "class MyClass:\n",
    "    \"This is my first class\"\n",
    "    a = \"The content of the class\"\n",
    "    def func(self):\n",
    "        print('Hello, Class!')\n",
    "\n",
    "# Output:\n",
    "print(MyClass.a)\n",
    "\n",
    "# Output: <function MyClass.func at 0x0000000003079BF8>\n",
    "print(MyClass.func)\n",
    "\n",
    "# Output: 'This is my first class'\n",
    "print(MyClass.__doc__)"
   ]
  },
  {
   "cell_type": "markdown",
   "metadata": {},
   "source": [
    "## Creating an Object in Python\n",
    "### Class instantiation uses function notation:"
   ]
  },
  {
   "cell_type": "code",
   "execution_count": null,
   "metadata": {},
   "outputs": [],
   "source": [
    "ob = MyClass()\n",
    "# This will create a new instance object named ob. \n",
    "# We can access attributes of objects using the object name prefix."
   ]
  },
  {
   "cell_type": "code",
   "execution_count": null,
   "metadata": {
    "scrolled": true
   },
   "outputs": [],
   "source": [
    "ob.func()"
   ]
  },
  {
   "cell_type": "markdown",
   "metadata": {},
   "source": [
    "## Function is a group of related statements that perform a specific task.\n",
    "\n",
    "### Functions help break our program into smaller and modular chunks. As our program grows larger and larger, functions make it more organized and manageable.\n",
    "\n",
    "### Furthermore, it avoids repetition and makes code reusable."
   ]
  },
  {
   "cell_type": "code",
   "execution_count": null,
   "metadata": {},
   "outputs": [],
   "source": [
    "def greet(name):\n",
    "\t\"\"\"This function greets to\n",
    "\tthe person passed in as\n",
    "\tparameter\"\"\"\n",
    "\tprint(\"Hello, \" + name + \". Good morning!\")"
   ]
  },
  {
   "cell_type": "code",
   "execution_count": null,
   "metadata": {},
   "outputs": [],
   "source": [
    "greet.__doc__"
   ]
  },
  {
   "cell_type": "code",
   "execution_count": null,
   "metadata": {},
   "outputs": [],
   "source": [
    "greet(\"David\")"
   ]
  },
  {
   "cell_type": "code",
   "execution_count": null,
   "metadata": {},
   "outputs": [],
   "source": [
    "print(greet.__doc__)"
   ]
  },
  {
   "cell_type": "markdown",
   "metadata": {},
   "source": [
    "### Different ways to import modules"
   ]
  },
  {
   "cell_type": "code",
   "execution_count": null,
   "metadata": {},
   "outputs": [],
   "source": [
    "import math\n",
    "print(\"The value of pi is\", math.pi)"
   ]
  },
  {
   "cell_type": "code",
   "execution_count": null,
   "metadata": {},
   "outputs": [],
   "source": [
    "import math as m\n",
    "print(\"The value of the square of pi is\", m.pi**2)"
   ]
  },
  {
   "cell_type": "code",
   "execution_count": null,
   "metadata": {},
   "outputs": [],
   "source": [
    "from math import pi, e"
   ]
  },
  {
   "cell_type": "code",
   "execution_count": null,
   "metadata": {},
   "outputs": [],
   "source": [
    "e"
   ]
  },
  {
   "cell_type": "markdown",
   "metadata": {},
   "source": [
    "### We can import all names(definitions) form a module using the following construct."
   ]
  },
  {
   "cell_type": "code",
   "execution_count": null,
   "metadata": {},
   "outputs": [],
   "source": [
    "from math import *\n",
    "print(\"The value of pi is\", pi)"
   ]
  },
  {
   "cell_type": "code",
   "execution_count": null,
   "metadata": {},
   "outputs": [],
   "source": [
    "# Without arguments, return the list of names in the current local scope. \n",
    "# With an argument, attempt to return a list of valid attributes for that object.\n",
    "dir(math) "
   ]
  },
  {
   "cell_type": "markdown",
   "metadata": {},
   "source": [
    "### A Pandas Pandas DataFrame is a table, similar to an Excel Spreadsheet. \n",
    "#### Pandas provides a great range of methods to modify and operate on this table, in particular it allows SQL-like queries and joins of tables.\n",
    "#### Here is a small example of creating a DataFrame using a dictionary:"
   ]
  },
  {
   "cell_type": "code",
   "execution_count": null,
   "metadata": {},
   "outputs": [],
   "source": [
    "import pandas as pd\n",
    "# create a simple dataset of people\n",
    "data = {'Name': [\"John\", \"Anna\", \"Peter\", \"Linda\"],\n",
    "'Location' : [\"New York\", \"Paris\", \"Berlin\", \"London\"],\n",
    "'Age' : [24, 13, 53, 33]\n",
    "}\n",
    "data_pandas = pd.DataFrame(data)\n",
    "data_pandas"
   ]
  },
  {
   "cell_type": "markdown",
   "metadata": {},
   "source": [
    "### Matplotlib is the primary scientific plotting library in Python. \n",
    "#### It provides function for making publication-quality visualizations such as line charts, histograms, scatter plots, and so on. \n",
    "#### Visualizing your data and any aspects of your analysis can give you important insights, and we will be using matplotlib for all our visualizations."
   ]
  },
  {
   "cell_type": "code",
   "execution_count": null,
   "metadata": {
    "scrolled": true
   },
   "outputs": [],
   "source": [
    "%matplotlib inline\n",
    "import numpy as np\n",
    "import matplotlib.pyplot as plt\n",
    "# Generate a sequence of integers\n",
    "x = np.arange(20)\n",
    "# create a second array using sinus\n",
    "y = np.sin(x)\n",
    "# The plot function makes a line chart of one array against another\n",
    "plt.plot(x, y, marker=\"x\")"
   ]
  },
  {
   "cell_type": "markdown",
   "metadata": {},
   "source": [
    "### NumPy is one of the fundamental packages for scientific computing in Python. \n",
    "#### It contains functionality for multidimensional arrays, high-level mathematical functions such as linear algebra operations.\n",
    "#### The NumPy array is the fundamental data structure in scikit-learn. \n",
    "#### Scikit-learn takes in data in the form of NumPy arrays. \n",
    "#### Any data you’re using will have to be converted to a NumPy array. \n",
    "#### The core functionality of NumPy is this “ndarray”, meaning it has n dimensions, and all elements of the array must be the same type."
   ]
  },
  {
   "cell_type": "code",
   "execution_count": null,
   "metadata": {
    "scrolled": true,
    "slideshow": {
     "slide_type": "-"
    }
   },
   "outputs": [],
   "source": [
    "import numpy as np\n",
    "x = np.array([[1, 2, 3], [4, 5, 6], [7, 8, 9], [10, 11, 12]])\n",
    "x"
   ]
  },
  {
   "cell_type": "markdown",
   "metadata": {},
   "source": [
    "### List indexing and slicing\n",
    "#### : is the delimiter of the slice syntax to 'slice out' sub-parts in sequences , [start:end]\n",
    "\n",
    "#### [1:5] is equivalent to \"from 1 to 5\" (5 not included)\n",
    "#### [1:] is equivalent to \"1 to end\""
   ]
  },
  {
   "cell_type": "code",
   "execution_count": null,
   "metadata": {},
   "outputs": [],
   "source": [
    "x[1,2]"
   ]
  },
  {
   "cell_type": "code",
   "execution_count": null,
   "metadata": {},
   "outputs": [],
   "source": [
    "x[1:]\n",
    "# row 2 to end"
   ]
  },
  {
   "cell_type": "code",
   "execution_count": null,
   "metadata": {},
   "outputs": [],
   "source": [
    "x[-1:]\n",
    "# the last row to end"
   ]
  },
  {
   "cell_type": "code",
   "execution_count": null,
   "metadata": {},
   "outputs": [],
   "source": [
    "x[:-1]\n",
    "# start to end before the last row"
   ]
  },
  {
   "cell_type": "code",
   "execution_count": null,
   "metadata": {},
   "outputs": [],
   "source": [
    "x[:2,:2]\n",
    "# first 2 rows and columns"
   ]
  },
  {
   "cell_type": "code",
   "execution_count": null,
   "metadata": {},
   "outputs": [],
   "source": [
    "x[:,:2]\n",
    "# first 2 columns with all rows"
   ]
  },
  {
   "cell_type": "markdown",
   "metadata": {},
   "source": [
    "### Versions of the modules we use"
   ]
  },
  {
   "cell_type": "code",
   "execution_count": null,
   "metadata": {},
   "outputs": [],
   "source": [
    "import pandas as pd\n",
    "print(\"pandas version: %s\" % pd.__version__)\n",
    "import matplotlib\n",
    "print(\"matplotlib version: %s\" % matplotlib.__version__)\n",
    "import numpy as np\n",
    "print(\"numpy version: %s\" % np.__version__)\n",
    "import IPython\n",
    "print(\"IPython version: %s\" % IPython.__version__)\n",
    "import sklearn\n",
    "print(\"scikit-learn version: %s\" % sklearn.__version__)"
   ]
  },
  {
   "cell_type": "code",
   "execution_count": null,
   "metadata": {
    "scrolled": false
   },
   "outputs": [],
   "source": [
    "!pip3 install --upgrade pandas"
   ]
  },
  {
   "cell_type": "markdown",
   "metadata": {},
   "source": [
    "Or use pip3 to upgrade your packages: \n",
    "pip3 install --upgrade"
   ]
  },
  {
   "cell_type": "markdown",
   "metadata": {},
   "source": [
    "<p style=\"font-family: Arial; font-size:3.75em;color:purple; font-style:bold\"><br>\n",
    "An Example of Linear Regrssion<br><br><br>Welcome to the wonderful world<br><br><br> of APIs!<br><br><br></p>\n",
    "\n",
    "## sklearn.linear_model.LinearRegression\n",
    "## package          module              class\n",
    "### from sklearn import linear_model\n",
    "### regr = linear_model.LinearRegression()\n",
    "### regr.fit(X_train, y_train)\n",
    "### score = regr.score(X_test, y_test)\n",
    "### regr.predict(X_new)"
   ]
  },
  {
   "cell_type": "code",
   "execution_count": null,
   "metadata": {
    "scrolled": true
   },
   "outputs": [],
   "source": [
    "% matplotlib inline\n",
    "import matplotlib.pyplot as plt\n",
    "import numpy as np\n",
    "from sklearn import datasets, linear_model\n",
    "from sklearn.metrics import mean_squared_error, r2_score\n",
    "\n",
    "# Load the diabetes dataset\n",
    "diabetes = datasets.load_diabetes()\n",
    "\n",
    "\n",
    "# Use only one feature\n",
    "diabetes_X = diabetes.data[:, np.newaxis, 2]\n",
    "\n",
    "# Split the data into training/testing sets\n",
    "# Negative numbers mean that you count from the right instead of the left. \n",
    "# So, list[-1] refers to the last element, list[-2] is the second-last, and so on. \n",
    "diabetes_X_train = diabetes_X[:-20]\n",
    "diabetes_X_test = diabetes_X[-20:]\n",
    "\n",
    "# Split the targets into training/testing sets\n",
    "diabetes_y_train = diabetes.target[:-20]\n",
    "diabetes_y_test = diabetes.target[-20:]\n",
    "\n",
    "# Create linear regression object\n",
    "regr = linear_model.LinearRegression()\n",
    "\n",
    "# Train the model using the training sets\n",
    "regr.fit(diabetes_X_train, diabetes_y_train)\n",
    "\n",
    "# Make predictions using the testing set\n",
    "diabetes_y_pred = regr.predict(diabetes_X_test)\n",
    "\n",
    "# The coefficients\n",
    "print(\"Coefficients: \", regr.coef_)\n",
    "# The mean squared error\n",
    "print(\"Mean squared error: %.2f\"\n",
    "      % mean_squared_error(diabetes_y_test, diabetes_y_pred), \"* This is the so-called Cost Function\")\n",
    "# Explained variance score: 1 is perfect prediction\n",
    "print('Variance score: %.2f' % r2_score(diabetes_y_test, diabetes_y_pred), \"* This is the same R^2 you learned in your Statistics class!\")\n",
    "\n",
    "# Plot outputs\n",
    "plt.scatter(diabetes_X_test, diabetes_y_test,  color='black')\n",
    "plt.plot(diabetes_X_test, diabetes_y_pred, color='blue', linewidth=3)\n",
    "\n",
    "plt.xticks(())\n",
    "plt.yticks(())\n",
    "\n",
    "plt.show()"
   ]
  }
 ],
 "metadata": {
  "kernelspec": {
   "display_name": "Python 3",
   "language": "python",
   "name": "python3"
  },
  "language_info": {
   "codemirror_mode": {
    "name": "ipython",
    "version": 3
   },
   "file_extension": ".py",
   "mimetype": "text/x-python",
   "name": "python",
   "nbconvert_exporter": "python",
   "pygments_lexer": "ipython3",
   "version": "3.6.3"
  }
 },
 "nbformat": 4,
 "nbformat_minor": 2
}
