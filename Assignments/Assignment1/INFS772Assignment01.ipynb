{
 "cells": [
  {
   "cell_type": "code",
   "execution_count": 50,
   "metadata": {},
   "outputs": [],
   "source": [
    "import numpy as np"
   ]
  },
  {
   "cell_type": "code",
   "execution_count": 51,
   "metadata": {},
   "outputs": [
    {
     "name": "stdout",
     "output_type": "stream",
     "text": [
      "Array shape is: (4, 2)\n",
      "Array dimensions are: 2\n",
      "Length of each element is array is: 8\n"
     ]
    }
   ],
   "source": [
    "#Exercise 1: Create a 4X2 integer array and Print its attributes.\n",
    "\n",
    "array = np.zeros((4,2), dtype=np.int64)\n",
    "print(\"Array shape is: \" + str(array.shape))\n",
    "print(\"Array dimensions are: \" + str(array.ndim))\n",
    "print(\"Length of each element is array is: \" + str(array.itemsize))\n"
   ]
  },
  {
   "cell_type": "code",
   "execution_count": 52,
   "metadata": {},
   "outputs": [
    {
     "name": "stdout",
     "output_type": "stream",
     "text": [
      "[[100 110]\n",
      " [120 130]\n",
      " [140 150]\n",
      " [160 170]\n",
      " [180 190]]\n"
     ]
    }
   ],
   "source": [
    "#Exercise 2: Create a 5X2 integer array from a range between 100 to 200 such that the difference between each element is 10.\n",
    "\n",
    "array = np.arange(100, 200, 10).reshape(5,2)\n",
    "print(array)"
   ]
  },
  {
   "cell_type": "code",
   "execution_count": 53,
   "metadata": {},
   "outputs": [
    {
     "name": "stdout",
     "output_type": "stream",
     "text": [
      "Printing Input Array\n",
      "[[11 22 33]\n",
      " [44 55 66]\n",
      " [77 88 99]]\n",
      "Printing array of items in the second column from all rows\n",
      "[22 55 88]\n"
     ]
    }
   ],
   "source": [
    "#Exercise 3: Following is the provided numpy array. return array of items in the second column from all rows.\n",
    "\n",
    "sampleArray = np.array([[11 ,22, 33], [44, 55, 66], [77, 88, 99]], dtype=np.int64)\n",
    "array = np.array([sampleArray[0, 1], sampleArray[1, 1], sampleArray[2,1]])\n",
    "print(\"Printing Input Array\" + \"\\n\" + str(sampleArray))\n",
    "print(\"Printing array of items in the second column from all rows\" + \"\\n\" + str(array))\n"
   ]
  },
  {
   "cell_type": "code",
   "execution_count": 54,
   "metadata": {},
   "outputs": [
    {
     "name": "stdout",
     "output_type": "stream",
     "text": [
      "Printing Input Array\n",
      "[[ 3  6  9 12]\n",
      " [15 18 21 24]\n",
      " [27 30 33 36]\n",
      " [39 42 45 48]\n",
      " [51 54 57 60]]\n",
      "\n",
      "Printing Output Array\n",
      "[[ 6 12]\n",
      " [30 36]\n",
      " [54 60]]\n"
     ]
    }
   ],
   "source": [
    "#Exercise 4: Following is the given numpy array return array of odd rows and even columns.\n",
    "sampleArray = np.array([[3 ,6, 9, 12], [15 ,18, 21, 24],[27 ,30, 33, 36], [39 ,42, 45, 48], [51 ,54, 57, 60]])\n",
    "outputArray = sampleArray[0: 5: 2, 1: 4: 2]\n",
    "print(\"Printing Input Array\" + \"\\n\" + str(sampleArray) + \"\\n\")\n",
    "print(\"Printing Output Array\" + \"\\n\" + str(outputArray))"
   ]
  },
  {
   "cell_type": "code",
   "execution_count": 55,
   "metadata": {},
   "outputs": [
    {
     "name": "stdout",
     "output_type": "stream",
     "text": [
      "addition of two arrays is\n",
      "[[20 39 33]\n",
      " [25 25 28]]\n"
     ]
    }
   ],
   "source": [
    "#Exercise 5: Add the following two NumPy arrays.\n",
    "arrayOne = np.array([[5, 6, 9], [21 ,18, 27]])\n",
    "arrayTwo = np.array([[15 ,33, 24], [4 ,7, 1]])\n",
    "output = arrayOne + arrayTwo\n",
    "\n",
    "print(\"addition of two arrays is\" + \"\\n\" + str(output))\n"
   ]
  }
 ],
 "metadata": {
  "kernelspec": {
   "display_name": "Python 3",
   "language": "python",
   "name": "python3"
  },
  "language_info": {
   "codemirror_mode": {
    "name": "ipython",
    "version": 3
   },
   "file_extension": ".py",
   "mimetype": "text/x-python",
   "name": "python",
   "nbconvert_exporter": "python",
   "pygments_lexer": "ipython3",
   "version": "3.10.0"
  }
 },
 "nbformat": 4,
 "nbformat_minor": 2
}
