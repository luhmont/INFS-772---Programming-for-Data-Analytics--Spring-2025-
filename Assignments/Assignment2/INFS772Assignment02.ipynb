{
 "cells": [
  {
   "cell_type": "code",
   "execution_count": 68,
   "metadata": {},
   "outputs": [],
   "source": [
    "import numpy as np\n",
    "import pandas as pd"
   ]
  },
  {
   "cell_type": "code",
   "execution_count": 69,
   "metadata": {},
   "outputs": [
    {
     "name": "stdout",
     "output_type": "stream",
     "text": [
      "   index      company   body-style  wheel-base  length engine-type  \\\n",
      "0      0  alfa-romero  convertible        88.6   168.8        dohc   \n",
      "1      1  alfa-romero  convertible        88.6   168.8        dohc   \n",
      "2      2  alfa-romero    hatchback        94.5   171.2        ohcv   \n",
      "3      3         audi        sedan        99.8   176.6         ohc   \n",
      "4      4         audi        sedan        99.4   176.6         ohc   \n",
      "\n",
      "  num-of-cylinders  horsepower  average-mileage    price  \n",
      "0             four         111               21  13495.0  \n",
      "1             four         111               21  16500.0  \n",
      "2              six         154               19  16500.0  \n",
      "3             four         102               24  13950.0  \n",
      "4             five         115               18  17450.0  \n",
      "    index     company body-style  wheel-base  length engine-type  \\\n",
      "56     81  volkswagen      sedan        97.3   171.7         ohc   \n",
      "57     82  volkswagen      sedan        97.3   171.7         ohc   \n",
      "58     86  volkswagen      sedan        97.3   171.7         ohc   \n",
      "59     87       volvo      sedan       104.3   188.8         ohc   \n",
      "60     88       volvo      wagon       104.3   188.8         ohc   \n",
      "\n",
      "   num-of-cylinders  horsepower  average-mileage    price  \n",
      "56             four          85               27   7975.0  \n",
      "57             four          52               37   7995.0  \n",
      "58             four         100               26   9995.0  \n",
      "59             four         114               23  12940.0  \n",
      "60             four         114               23  13415.0  \n"
     ]
    }
   ],
   "source": [
    "#Question 1: From given data set print first and last five rows\n",
    "cardata = pd.read_csv('Automobile_data.csv',dtype={\"price\": float}, na_values={'price':[\"?\",\"n.a\"],'stroke':[\"?\",\"n.a\"],'horsepower':[\"?\",\"n.a\"],'peak-rpm':[\"?\",\"n.a\"],'average-mileage':[\"?\",\"n.a\"]})\n",
    "print(cardata.head())\n",
    "print(cardata.tail())"
   ]
  },
  {
   "cell_type": "code",
   "execution_count": 70,
   "metadata": {},
   "outputs": [
    {
     "name": "stdout",
     "output_type": "stream",
     "text": [
      "    index      company   body-style  wheel-base  length engine-type  \\\n",
      "0       0  alfa-romero  convertible        88.6   168.8        dohc   \n",
      "1       1  alfa-romero  convertible        88.6   168.8        dohc   \n",
      "2       2  alfa-romero    hatchback        94.5   171.2        ohcv   \n",
      "3       3         audi        sedan        99.8   176.6         ohc   \n",
      "4       4         audi        sedan        99.4   176.6         ohc   \n",
      "..    ...          ...          ...         ...     ...         ...   \n",
      "56     81   volkswagen        sedan        97.3   171.7         ohc   \n",
      "57     82   volkswagen        sedan        97.3   171.7         ohc   \n",
      "58     86   volkswagen        sedan        97.3   171.7         ohc   \n",
      "59     87        volvo        sedan       104.3   188.8         ohc   \n",
      "60     88        volvo        wagon       104.3   188.8         ohc   \n",
      "\n",
      "   num-of-cylinders  horsepower  average-mileage    price  \n",
      "0              four         111               21  13495.0  \n",
      "1              four         111               21  16500.0  \n",
      "2               six         154               19  16500.0  \n",
      "3              four         102               24  13950.0  \n",
      "4              five         115               18  17450.0  \n",
      "..              ...         ...              ...      ...  \n",
      "56             four          85               27   7975.0  \n",
      "57             four          52               37   7995.0  \n",
      "58             four         100               26   9995.0  \n",
      "59             four         114               23  12940.0  \n",
      "60             four         114               23  13415.0  \n",
      "\n",
      "[61 rows x 10 columns]\n"
     ]
    }
   ],
   "source": [
    "#Question 2: Clean data and update the CSV file\n",
    "cardata = cardata.fillna('NaN')\n",
    "print(cardata)"
   ]
  },
  {
   "cell_type": "code",
   "execution_count": 71,
   "metadata": {},
   "outputs": [
    {
     "name": "stdout",
     "output_type": "stream",
     "text": [
      "          company    price\n",
      "35  mercedes-benz  45400.0\n"
     ]
    }
   ],
   "source": [
    "#Question 3: Find the most expensive car company name\n",
    "cardata['price'] = pd.to_numeric(cardata['price'], errors='coerce')\n",
    "most_expensive_car = cardata.nlargest(1, 'price')[['company', 'price']]\n",
    "print(most_expensive_car)"
   ]
  },
  {
   "cell_type": "code",
   "execution_count": 72,
   "metadata": {},
   "outputs": [
    {
     "name": "stdout",
     "output_type": "stream",
     "text": [
      "    index company body-style  wheel-base  length engine-type num-of-cylinders  \\\n",
      "48     66  toyota  hatchback        95.7   158.7         ohc             four   \n",
      "49     67  toyota  hatchback        95.7   158.7         ohc             four   \n",
      "50     68  toyota  hatchback        95.7   158.7         ohc             four   \n",
      "51     69  toyota      wagon        95.7   169.7         ohc             four   \n",
      "52     70  toyota      wagon        95.7   169.7         ohc             four   \n",
      "53     71  toyota      wagon        95.7   169.7         ohc             four   \n",
      "54     79  toyota      wagon       104.5   187.8        dohc              six   \n",
      "\n",
      "    horsepower  average-mileage    price  \n",
      "48          62               35   5348.0  \n",
      "49          62               31   6338.0  \n",
      "50          62               31   6488.0  \n",
      "51          62               31   6918.0  \n",
      "52          62               27   7898.0  \n",
      "53          62               27   8778.0  \n",
      "54         156               19  15750.0  \n"
     ]
    }
   ],
   "source": [
    "#Question 4: Print All Toyota Cars details\n",
    "toyotas = cardata[cardata['company'] == 'toyota']\n",
    "print(toyotas)"
   ]
  },
  {
   "cell_type": "code",
   "execution_count": 73,
   "metadata": {},
   "outputs": [
    {
     "name": "stdout",
     "output_type": "stream",
     "text": [
      "company\n",
      "toyota           7\n",
      "bmw              6\n",
      "mazda            5\n",
      "nissan           5\n",
      "mercedes-benz    4\n",
      "audi             4\n",
      "volkswagen       4\n",
      "mitsubishi       4\n",
      "chevrolet        3\n",
      "jaguar           3\n",
      "isuzu            3\n",
      "honda            3\n",
      "porsche          3\n",
      "alfa-romero      3\n",
      "dodge            2\n",
      "volvo            2\n",
      "Name: count, dtype: int64\n"
     ]
    }
   ],
   "source": [
    "#Question 5: Count total cars per company\n",
    "counts = cardata['company'].value_counts()\n",
    "print(counts)"
   ]
  },
  {
   "cell_type": "code",
   "execution_count": 74,
   "metadata": {},
   "outputs": [
    {
     "name": "stdout",
     "output_type": "stream",
     "text": [
      "(5, 2)\n",
      "<bound method DataFrame.to_string of           company    price\n",
      "46        porsche  37028.0\n",
      "35  mercedes-benz  45400.0\n",
      "2     alfa-romero  16500.0\n",
      "11            bmw  41315.0\n",
      "33  mercedes-benz  28248.0>\n"
     ]
    }
   ],
   "source": [
    "#Question 6: Find each company’s Highest price car\n",
    "highestcarprice = cardata.loc[cardata.groupby('body-style')['price'].idxmax(), ['company', 'price']]\n",
    "print(highestcarprice.shape)\n",
    "print(highestcarprice.to_string)"
   ]
  },
  {
   "cell_type": "code",
   "execution_count": 75,
   "metadata": {},
   "outputs": [
    {
     "name": "stdout",
     "output_type": "stream",
     "text": [
      "<bound method Series.to_string of company\n",
      "alfa-romero      20.333333\n",
      "audi             20.000000\n",
      "bmw              19.000000\n",
      "chevrolet        41.000000\n",
      "dodge            31.000000\n",
      "honda            26.333333\n",
      "isuzu            33.333333\n",
      "jaguar           14.333333\n",
      "mazda            28.000000\n",
      "mercedes-benz    18.000000\n",
      "mitsubishi       29.500000\n",
      "nissan           31.400000\n",
      "porsche          17.000000\n",
      "toyota           28.714286\n",
      "volkswagen       31.750000\n",
      "volvo            23.000000\n",
      "Name: average-mileage, dtype: float64>\n"
     ]
    }
   ],
   "source": [
    "#Question 7: Find the average mileage of each car making company\n",
    "cardata['average-mileage'] = pd.to_numeric(cardata['average-mileage'], errors='coerce')\n",
    "avgmilespercompany = cardata.groupby('company')['average-mileage'].mean()\n",
    "\n",
    "print(avgmilespercompany.to_string)"
   ]
  },
  {
   "cell_type": "code",
   "execution_count": 76,
   "metadata": {},
   "outputs": [
    {
     "name": "stdout",
     "output_type": "stream",
     "text": [
      "<bound method DataFrame.to_string of     index        company   body-style  wheel-base  length engine-type  \\\n",
      "35     47  mercedes-benz      hardtop       112.0   199.2        ohcv   \n",
      "11     14            bmw        sedan       103.5   193.8         ohc   \n",
      "34     46  mercedes-benz        sedan       120.9   208.1        ohcv   \n",
      "46     62        porsche  convertible        89.5   168.9        ohcf   \n",
      "12     15            bmw        sedan       110.0   197.0         ohc   \n",
      "..    ...            ...          ...         ...     ...         ...   \n",
      "27     36          mazda    hatchback        93.1   159.1         ohc   \n",
      "13     16      chevrolet    hatchback        88.4   141.1           l   \n",
      "22     31          isuzu        sedan        94.5   155.9         ohc   \n",
      "23     32          isuzu        sedan        94.5   155.9         ohc   \n",
      "47     63        porsche    hatchback        98.4   175.7       dohcv   \n",
      "\n",
      "   num-of-cylinders  horsepower  average-mileage    price  \n",
      "35            eight         184               14  45400.0  \n",
      "11              six         182               16  41315.0  \n",
      "34            eight         184               14  40960.0  \n",
      "46              six         207               17  37028.0  \n",
      "12              six         182               15  36880.0  \n",
      "..              ...         ...              ...      ...  \n",
      "27             four          68               30   5195.0  \n",
      "13            three          48               47   5151.0  \n",
      "22             four          70               38      NaN  \n",
      "23             four          70               38      NaN  \n",
      "47            eight         288               17      NaN  \n",
      "\n",
      "[61 rows x 10 columns]>\n"
     ]
    }
   ],
   "source": [
    "#Question 8: Sort all cars by Price column\n",
    "carsbyprice = cardata.sort_values(by='price', ascending=False)\n",
    "print(carsbyprice.to_string)"
   ]
  },
  {
   "cell_type": "code",
   "execution_count": 77,
   "metadata": {},
   "outputs": [
    {
     "name": "stdout",
     "output_type": "stream",
     "text": [
      "       Company   Price      Type\n",
      "0         Ford   23845    German\n",
      "1     Mercedes  171995    German\n",
      "2          BMV  135925    German\n",
      "3         Audi   71400    German\n",
      "0       Toyota   29995  Japanese\n",
      "1        Honda   23600  Japanese\n",
      "2       Nissan   61500  Japanese\n",
      "3  Mitsubishi    58900  Japanese\n"
     ]
    }
   ],
   "source": [
    "#Question 9: Concatenate two data frames using the following conditions\n",
    "GermanCars = {'Company': ['Ford', 'Mercedes', 'BMV', 'Audi'], 'Price': [23845, 171995, 135925\n",
    ", 71400]}\n",
    "japaneseCars = {'Company': ['Toyota', 'Honda', 'Nissan', 'Mitsubishi '], 'Price': [29995,\n",
    "23600, 61500 , 58900]}\n",
    "\n",
    "german_df = pd.DataFrame(GermanCars)\n",
    "japanese_df = pd.DataFrame(japaneseCars)\n",
    "\n",
    "german_df['Type'] = 'German'\n",
    "japanese_df['Type'] = 'Japanese'\n",
    "\n",
    "merged_df = pd.concat([german_df, japanese_df])\n",
    "print(merged_df)"
   ]
  },
  {
   "cell_type": "code",
   "execution_count": 78,
   "metadata": {},
   "outputs": [
    {
     "name": "stdout",
     "output_type": "stream",
     "text": [
      "  Company   Price  horsepower\n",
      "0  Toyota   23845         141\n",
      "1   Honda   17995          80\n",
      "2     BMV  135925         182\n",
      "3    Audi   71400         160\n"
     ]
    }
   ],
   "source": [
    "#Question 10: Merge two data frames using the following condition\n",
    "Car_Price = {'Company': ['Toyota', 'Honda', 'BMV', 'Audi'], 'Price': [23845, 17995, 135925,\n",
    "71400]}\n",
    "car_Horsepower = {'Company': ['Toyota', 'Honda', 'BMV', 'Audi'], 'horsepower': [141, 80, 182,\n",
    "160]}\n",
    "\n",
    "carprice_df = pd.DataFrame(Car_Price)\n",
    "carhorsepower_df = pd.DataFrame(car_Horsepower)\n",
    "\n",
    "merged_df = pd.merge(carprice_df, carhorsepower_df, on='Company')\n",
    "\n",
    "print(merged_df)"
   ]
  }
 ],
 "metadata": {
  "kernelspec": {
   "display_name": "Python 3",
   "language": "python",
   "name": "python3"
  },
  "language_info": {
   "codemirror_mode": {
    "name": "ipython",
    "version": 3
   },
   "file_extension": ".py",
   "mimetype": "text/x-python",
   "name": "python",
   "nbconvert_exporter": "python",
   "pygments_lexer": "ipython3",
   "version": "3.10.0"
  }
 },
 "nbformat": 4,
 "nbformat_minor": 2
}
